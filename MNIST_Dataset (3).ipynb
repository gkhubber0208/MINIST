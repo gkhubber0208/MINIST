{
  "nbformat": 4,
  "nbformat_minor": 0,
  "metadata": {
    "colab": {
      "name": "MNIST-Dataset",
      "version": "0.3.2",
      "provenance": [],
      "collapsed_sections": [],
      "toc_visible": true
    },
    "kernelspec": {
      "name": "python3",
      "display_name": "Python 3"
    }
  },
  "cells": [
    {
      "cell_type": "code",
      "metadata": {
        "id": "wWzAqSz1SLsW",
        "colab_type": "code",
        "colab": {}
      },
      "source": [
        "import os\n",
        "import cv2\n",
        "import tarfile\n",
        "import numpy as np \n",
        "import pandas as pd \n",
        "import matplotlib.pyplot as plt \n",
        "from sklearn.svm import SVC, SVR\n",
        "from sklearn.metrics import accuracy_score\n",
        "from sklearn.linear_model import LogisticRegression\n",
        "from sklearn.model_selection import train_test_split"
      ],
      "execution_count": 0,
      "outputs": []
    },
    {
      "cell_type": "markdown",
      "metadata": {
        "id": "grn06D8dYQcI",
        "colab_type": "text"
      },
      "source": [
        "## Tarfile "
      ]
    },
    {
      "cell_type": "code",
      "metadata": {
        "id": "uiWgaYp5YN-O",
        "colab_type": "code",
        "colab": {}
      },
      "source": [
        "tar = tarfile.open(\"trainingSet.tar.gz\")\n",
        "tar.extractall()\n",
        "tar.close()"
      ],
      "execution_count": 0,
      "outputs": []
    },
    {
      "cell_type": "code",
      "metadata": {
        "id": "LHJjFo-zWBOW",
        "colab_type": "code",
        "outputId": "210e836e-69fa-49a1-8f8c-6d63cd3744c0",
        "colab": {
          "base_uri": "https://localhost:8080/",
          "height": 34
        }
      },
      "source": [
        "os.listdir(\"trainingSet/\")"
      ],
      "execution_count": 4,
      "outputs": [
        {
          "output_type": "execute_result",
          "data": {
            "text/plain": [
              "['3', '4', '9', '0', '5', '1', '7', '8', '6', '2']"
            ]
          },
          "metadata": {
            "tags": []
          },
          "execution_count": 4
        }
      ]
    },
    {
      "cell_type": "code",
      "metadata": {
        "id": "lSKe_PdNYNWm",
        "colab_type": "code",
        "outputId": "23c6cb17-1ec3-4e24-99bb-65be4274e127",
        "colab": {
          "base_uri": "https://localhost:8080/",
          "height": 303
        }
      },
      "source": [
        "x = cv2.imread(\"trainingSet/3/img_10149.jpg\")\n",
        "x = cv2.cvtColor(x, cv2.COLOR_BGR2GRAY)\n",
        "print(x.shape)\n",
        "plt.imshow(x)"
      ],
      "execution_count": 5,
      "outputs": [
        {
          "output_type": "stream",
          "text": [
            "(28, 28)\n"
          ],
          "name": "stdout"
        },
        {
          "output_type": "execute_result",
          "data": {
            "text/plain": [
              "<matplotlib.image.AxesImage at 0x7f687fdca588>"
            ]
          },
          "metadata": {
            "tags": []
          },
          "execution_count": 5
        },
        {
          "output_type": "display_data",
          "data": {
            "image/png": "[encoded data removed]",
            "text/plain": [
              "<Figure size 432x288 with 1 Axes>"
            ]
          },
          "metadata": {
            "tags": []
          }
        }
      ]
    },
    {
      "cell_type": "code",
      "metadata": {
        "id": "BJHdyE6vYMs6",
        "colab_type": "code",
        "outputId": "5d11c117-8bce-437f-85e6-a9c78ae5e242",
        "colab": {
          "base_uri": "https://localhost:8080/",
          "height": 303
        }
      },
      "source": [
        "x = cv2.imread(\"trainingSet/3/img_10149.jpg\")\n",
        "print(x.shape)\n",
        "plt.imshow(x)"
      ],
      "execution_count": 6,
      "outputs": [
        {
          "output_type": "stream",
          "text": [
            "(28, 28, 3)\n"
          ],
          "name": "stdout"
        },
        {
          "output_type": "execute_result",
          "data": {
            "text/plain": [
              "<matplotlib.image.AxesImage at 0x7f687d558588>"
            ]
          },
          "metadata": {
            "tags": []
          },
          "execution_count": 6
        },
        {
          "output_type": "display_data",
          "data": {
            "image/png": "[encoded data removed]",
            "text/plain": [
              "<Figure size 432x288 with 1 Axes>"
            ]
          },
          "metadata": {
            "tags": []
          }
        }
      ]
    },
    {
      "cell_type": "code",
      "metadata": {
        "id": "VD-s_Noybbbe",
        "colab_type": "code",
        "outputId": "08fa3d51-63de-4945-8cdd-fc7ce6e63c9d",
        "colab": {
          "base_uri": "https://localhost:8080/",
          "height": 34
        }
      },
      "source": [
        "data=[]\n",
        "for target_dirs in os.listdir(\"trainingSet/\"):\n",
        "  for img_file in os.listdir(\"trainingSet/\"+target_dirs)[:200]:\n",
        "    img = cv2.imread(\"trainingSet/\"+target_dirs+\"/\"+img_file,cv2.COLOR_BGR2GRAY)\n",
        "    img = img.reshape(-1)\n",
        "    row = (img, int(target_dirs))\n",
        "    data.append(row)\n",
        "  \n",
        "data = np.array(data)\n",
        "data.shape"
      ],
      "execution_count": 7,
      "outputs": [
        {
          "output_type": "execute_result",
          "data": {
            "text/plain": [
              "(2000, 2)"
            ]
          },
          "metadata": {
            "tags": []
          },
          "execution_count": 7
        }
      ]
    },
    {
      "cell_type": "code",
      "metadata": {
        "id": "We_Y-HlPd1ab",
        "colab_type": "code",
        "outputId": "c15f9d69-a7e6-4088-adc9-705819e1c284",
        "colab": {
          "base_uri": "https://localhost:8080/",
          "height": 204
        }
      },
      "source": [
        "df = pd.DataFrame(data, columns=[\"image\",\"target\"])\n",
        "df.head()"
      ],
      "execution_count": 8,
      "outputs": [
        {
          "output_type": "execute_result",
          "data": {
            "text/html": [
              "<div>\n",
              "<style scoped>\n",
              "    .dataframe tbody tr th:only-of-type {\n",
              "        vertical-align: middle;\n",
              "    }\n",
              "\n",
              "    .dataframe tbody tr th {\n",
              "        vertical-align: top;\n",
              "    }\n",
              "\n",
              "    .dataframe thead th {\n",
              "        text-align: right;\n",
              "    }\n",
              "</style>\n",
              "<table border=\"1\" class=\"dataframe\">\n",
              "  <thead>\n",
              "    <tr style=\"text-align: right;\">\n",
              "      <th></th>\n",
              "      <th>image</th>\n",
              "      <th>target</th>\n",
              "    </tr>\n",
              "  </thead>\n",
              "  <tbody>\n",
              "    <tr>\n",
              "      <th>0</th>\n",
              "      <td>[0, 0, 0, 0, 0, 0, 0, 0, 8, 0, 9, 0, 0, 0, 4, ...</td>\n",
              "      <td>3</td>\n",
              "    </tr>\n",
              "    <tr>\n",
              "      <th>1</th>\n",
              "      <td>[0, 0, 0, 0, 0, 0, 0, 0, 8, 0, 0, 20, 0, 6, 4,...</td>\n",
              "      <td>3</td>\n",
              "    </tr>\n",
              "    <tr>\n",
              "      <th>2</th>\n",
              "      <td>[0, 0, 0, 0, 0, 0, 0, 0, 0, 4, 5, 0, 0, 0, 1, ...</td>\n",
              "      <td>3</td>\n",
              "    </tr>\n",
              "    <tr>\n",
              "      <th>3</th>\n",
              "      <td>[0, 0, 0, 0, 0, 0, 0, 0, 0, 0, 0, 15, 0, 0, 6,...</td>\n",
              "      <td>3</td>\n",
              "    </tr>\n",
              "    <tr>\n",
              "      <th>4</th>\n",
              "      <td>[0, 0, 4, 6, 0, 5, 0, 1, 0, 7, 0, 0, 5, 0, 0, ...</td>\n",
              "      <td>3</td>\n",
              "    </tr>\n",
              "  </tbody>\n",
              "</table>\n",
              "</div>"
            ],
            "text/plain": [
              "                                               image target\n",
              "0  [0, 0, 0, 0, 0, 0, 0, 0, 8, 0, 9, 0, 0, 0, 4, ...      3\n",
              "1  [0, 0, 0, 0, 0, 0, 0, 0, 8, 0, 0, 20, 0, 6, 4,...      3\n",
              "2  [0, 0, 0, 0, 0, 0, 0, 0, 0, 4, 5, 0, 0, 0, 1, ...      3\n",
              "3  [0, 0, 0, 0, 0, 0, 0, 0, 0, 0, 0, 15, 0, 0, 6,...      3\n",
              "4  [0, 0, 4, 6, 0, 5, 0, 1, 0, 7, 0, 0, 5, 0, 0, ...      3"
            ]
          },
          "metadata": {
            "tags": []
          },
          "execution_count": 8
        }
      ]
    },
    {
      "cell_type": "code",
      "metadata": {
        "id": "h0fXT7rfcs-V",
        "colab_type": "code",
        "outputId": "57d31ddb-47c3-4cba-a181-72a8a3dc3c37",
        "colab": {
          "base_uri": "https://localhost:8080/",
          "height": 286
        }
      },
      "source": [
        "idx = 1002\n",
        "img = df.iloc[idx, 0].reshape(28,28)\n",
        "target = df.iloc[idx, 1]\n",
        "print(\"Target \", target)\n",
        "plt.imshow(img)\n",
        "plt.show()"
      ],
      "execution_count": 9,
      "outputs": [
        {
          "output_type": "stream",
          "text": [
            "Target  1\n"
          ],
          "name": "stdout"
        },
        {
          "output_type": "display_data",
          "data": {
            "image/png": "[encoded data removed]",
            "text/plain": [
              "<Figure size 432x288 with 1 Axes>"
            ]
          },
          "metadata": {
            "tags": []
          }
        }
      ]
    },
    {
      "cell_type": "code",
      "metadata": {
        "id": "gfPKxvb6eUIZ",
        "colab_type": "code",
        "outputId": "baf52f17-ac88-4fcc-dd5a-29999dc07b1b",
        "colab": {
          "base_uri": "https://localhost:8080/",
          "height": 204
        }
      },
      "source": [
        "df.target.value_counts()"
      ],
      "execution_count": 10,
      "outputs": [
        {
          "output_type": "execute_result",
          "data": {
            "text/plain": [
              "9    200\n",
              "8    200\n",
              "7    200\n",
              "6    200\n",
              "5    200\n",
              "4    200\n",
              "3    200\n",
              "2    200\n",
              "1    200\n",
              "0    200\n",
              "Name: target, dtype: int64"
            ]
          },
          "metadata": {
            "tags": []
          },
          "execution_count": 10
        }
      ]
    },
    {
      "cell_type": "code",
      "metadata": {
        "id": "9uQKPdJofMV1",
        "colab_type": "code",
        "colab": {}
      },
      "source": [
        "X = list(df.image.values)\n",
        "X = np.array(X)\n",
        "Y = df.target.values\n",
        "Y = np.array(Y, dtype=np.int)"
      ],
      "execution_count": 0,
      "outputs": []
    },
    {
      "cell_type": "code",
      "metadata": {
        "id": "M81aVaD1fffG",
        "colab_type": "code",
        "outputId": "1c219931-6958-444d-cd31-bb3bd07409a6",
        "colab": {
          "base_uri": "https://localhost:8080/",
          "height": 85
        }
      },
      "source": [
        "x_train,x_test,y_train,y_test = train_test_split(X,Y,test_size = 0.2)\n",
        "\n",
        "print(x_train.shape)\n",
        "print(y_train.shape)\n",
        "print(x_test.shape)\n",
        "print(y_test.shape)"
      ],
      "execution_count": 12,
      "outputs": [
        {
          "output_type": "stream",
          "text": [
            "(1600, 784)\n",
            "(1600,)\n",
            "(400, 784)\n",
            "(400,)\n"
          ],
          "name": "stdout"
        }
      ]
    },
    {
      "cell_type": "code",
      "metadata": {
        "id": "j-quOTDBgSTK",
        "colab_type": "code",
        "outputId": "8dfdc4c0-93cd-4a2d-cf5e-f4387e1cce3e",
        "colab": {
          "base_uri": "https://localhost:8080/",
          "height": 190
        }
      },
      "source": [
        "clf = LogisticRegression()\n",
        "clf.fit(x_train, y_train)\n"
      ],
      "execution_count": 13,
      "outputs": [
        {
          "output_type": "stream",
          "text": [
            "/usr/local/lib/python3.6/dist-packages/sklearn/linear_model/logistic.py:432: FutureWarning: Default solver will be changed to 'lbfgs' in 0.22. Specify a solver to silence this warning.\n",
            "  FutureWarning)\n",
            "/usr/local/lib/python3.6/dist-packages/sklearn/linear_model/logistic.py:469: FutureWarning: Default multi_class will be changed to 'auto' in 0.22. Specify the multi_class option to silence this warning.\n",
            "  \"this warning.\", FutureWarning)\n"
          ],
          "name": "stderr"
        },
        {
          "output_type": "execute_result",
          "data": {
            "text/plain": [
              "LogisticRegression(C=1.0, class_weight=None, dual=False, fit_intercept=True,\n",
              "                   intercept_scaling=1, l1_ratio=None, max_iter=100,\n",
              "                   multi_class='warn', n_jobs=None, penalty='l2',\n",
              "                   random_state=None, solver='warn', tol=0.0001, verbose=0,\n",
              "                   warm_start=False)"
            ]
          },
          "metadata": {
            "tags": []
          },
          "execution_count": 13
        }
      ]
    },
    {
      "cell_type": "code",
      "metadata": {
        "id": "KYemv4cRg88o",
        "colab_type": "code",
        "outputId": "bd707301-5d4a-45e9-cfcb-19630bba8e95",
        "colab": {
          "base_uri": "https://localhost:8080/",
          "height": 51
        }
      },
      "source": [
        "y_train_pred = clf.predict(x_train)\n",
        "print(\"Train Accuracy =\", accuracy_score(y_train,y_train_pred))\n",
        "y_test_pred = clf.predict(x_test)\n",
        "print(\"Test Accuracy = \", accuracy_score(y_test,y_test_pred))"
      ],
      "execution_count": 14,
      "outputs": [
        {
          "output_type": "stream",
          "text": [
            "Train Accuracy = 1.0\n",
            "Test Accuracy =  0.825\n"
          ],
          "name": "stdout"
        }
      ]
    },
    {
      "cell_type": "code",
      "metadata": {
        "id": "W7b7Df2Ejojo",
        "colab_type": "code",
        "colab": {
          "base_uri": "https://localhost:8080/",
          "height": 139
        },
        "outputId": "1efa460d-3c35-4718-f18c-7bdb814a02fd"
      },
      "source": [
        "clf = SVC()\n",
        "clf.fit(x_train, y_train)"
      ],
      "execution_count": 15,
      "outputs": [
        {
          "output_type": "stream",
          "text": [
            "/usr/local/lib/python3.6/dist-packages/sklearn/svm/base.py:193: FutureWarning: The default value of gamma will change from 'auto' to 'scale' in version 0.22 to account better for unscaled features. Set gamma explicitly to 'auto' or 'scale' to avoid this warning.\n",
            "  \"avoid this warning.\", FutureWarning)\n"
          ],
          "name": "stderr"
        },
        {
          "output_type": "execute_result",
          "data": {
            "text/plain": [
              "SVC(C=1.0, cache_size=200, class_weight=None, coef0=0.0,\n",
              "    decision_function_shape='ovr', degree=3, gamma='auto_deprecated',\n",
              "    kernel='rbf', max_iter=-1, probability=False, random_state=None,\n",
              "    shrinking=True, tol=0.001, verbose=False)"
            ]
          },
          "metadata": {
            "tags": []
          },
          "execution_count": 15
        }
      ]
    },
    {
      "cell_type": "code",
      "metadata": {
        "id": "nybfbVbZd2zC",
        "colab_type": "code",
        "colab": {
          "base_uri": "https://localhost:8080/",
          "height": 51
        },
        "outputId": "742b25fd-5aa6-4c9d-946d-0fb46be4d218"
      },
      "source": [
        "y_train_pred = clf.predict(x_train)\n",
        "print(\"Train Accuracy =\", accuracy_score(y_train,y_train_pred))\n",
        "y_test_pred = clf.predict(x_test)\n",
        "print(\"Test Accuracy = \", accuracy_score(y_test,y_test_pred))"
      ],
      "execution_count": 16,
      "outputs": [
        {
          "output_type": "stream",
          "text": [
            "Train Accuracy = 1.0\n",
            "Test Accuracy =  0.0775\n"
          ],
          "name": "stdout"
        }
      ]
    },
    {
      "cell_type": "code",
      "metadata": {
        "id": "EqWPjNwyd6ZF",
        "colab_type": "code",
        "colab": {}
      },
      "source": [
        ""
      ],
      "execution_count": 0,
      "outputs": []
    }
  ]
}